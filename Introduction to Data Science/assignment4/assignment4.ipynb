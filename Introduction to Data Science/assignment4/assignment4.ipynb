{
 "cells": [
  {
   "cell_type": "markdown",
   "metadata": {
    "deletable": false,
    "editable": false,
    "etc_identifier": "653a3605-5bda-4e1f-beef-04a0173d3f41",
    "nbgrader": {
     "cell_type": "markdown",
     "checksum": "60da2e57814a61cf6a81dd670bf35473",
     "grade": false,
     "grade_id": "cell-a6c4f74309fc2379",
     "locked": true,
     "schema_version": 3,
     "solution": false
    }
   },
   "source": [
    "# Assignment 4\n",
    "## Description\n",
    "In this assignment you must read in a file of metropolitan regions and associated sports teams from [assets/wikipedia_data.html](assets/wikipedia_data.html) and answer some questions about each metropolitan region. Each of these regions may have one or more teams from the \"Big 4\": NFL (football, in [assets/nfl.csv](assets/nfl.csv)), MLB (baseball, in [assets/mlb.csv](assets/mlb.csv)), mlb (basketball, in [assets/mlb.csv](assets/nba.csv) or NHL (hockey, in [assets/nhl.csv](assets/nhl.csv)). Please keep in mind that all questions are from the perspective of the metropolitan region, and that this file is the \"source of authority\" for the location of a given sports team. Thus teams which are commonly known by a different area (e.g. \"Oakland Raiders\") need to be mapped into the metropolitan region given (e.g. San Francisco Bay Area). This will require some human data understanding outside of the data you've been given (e.g. you will have to hand-code some names, and might need to google to find out where teams are)!\n",
    "\n",
    "For each sport I would like you to answer the question: **what is the win/loss ratio's correlation with the population of the city it is in?** Win/Loss ratio refers to the number of wins over the number of wins plus the number of losses. Remember that to calculate the correlation with [`pearsonr`](https://docs.scipy.org/doc/scipy/reference/generated/scipy.stats.pearsonr.html), so you are going to send in two ordered lists of values, the populations from the wikipedia_data.html file and the win/loss ratio for a given sport in the same order. Average the win/loss ratios for those cities which have multiple teams of a single sport. Each sport is worth an equal amount in this assignment (20%\\*4=80%) of the grade for this assignment. You should only use data **from year 2018** for your analysis -- this is important!\n",
    "\n",
    "## Notes\n",
    "\n",
    "1. Do not include data about the MLS or CFL in any of the work you are doing, we're only interested in the Big 4 in this assignment.\n",
    "2. I highly suggest that you first tackle the four correlation questions in order, as they are all similar and worth the majority of grades for this assignment. This is by design!\n",
    "3. It's fair game to talk with peers about high level strategy as well as the relationship between metropolitan areas and sports teams. However, do not post code solving aspects of the assignment (including such as dictionaries mapping areas to teams, or regexes which will clean up names).\n",
    "4. There may be more teams than the assert statements test, remember to collapse multiple teams in one city into a single value!\n",
    "\n",
    "As this assignment utilizes global variables in the skeleton code, to avoid having errors in your code you can either:\n",
    "\n",
    "1. You can place all of your code within the function definitions for all of the questions (other than import statements).\n",
    "2. You can create copies of all the global variables with the copy() method and proceed as usual."
   ]
  },
  {
   "cell_type": "markdown",
   "metadata": {
    "deletable": false,
    "editable": false,
    "nbgrader": {
     "cell_type": "markdown",
     "checksum": "369ff9ecf0ee04640574205cbc697f94",
     "grade": false,
     "grade_id": "cell-712b2b5da63d4505",
     "locked": true,
     "schema_version": 3,
     "solution": false
    }
   },
   "source": [
    "## Question 1\n",
    "For this question, calculate the win/loss ratio's correlation with the population of the city it is in for the **NHL** using **2018** data."
   ]
  },
  {
   "cell_type": "code",
   "execution_count": 140,
   "metadata": {
    "deletable": false,
    "nbgrader": {
     "cell_type": "code",
     "checksum": "1cac4803b02502929f5b1612d48db2b5",
     "grade": false,
     "grade_id": "cell-69b16e4386e58030",
     "locked": false,
     "schema_version": 3,
     "solution": true
    }
   },
   "outputs": [],
   "source": [
    "import pandas as pd\n",
    "import numpy as np\n",
    "import scipy.stats as stats\n",
    "import re\n",
    "\n",
    "nhl_df = pd.read_csv(\"assets/nhl.csv\")\n",
    "nhl_df = nhl_df[\n",
    "    (~nhl_df[\"team\"].str.contains(\"Division\")) & (nhl_df[\"year\"] == 2018)\n",
    "].reset_index(drop=True)\n",
    "nhl_df[\"team\"] = nhl_df[\"team\"].str.replace(\"*\", \"\")\n",
    "nhl_df = nhl_df.assign(\n",
    "    metropolitan_area=pd.Series(\n",
    "        [\n",
    "            \"Tampa Bay Area\",\n",
    "            \"Boston\",\n",
    "            \"Toronto\",\n",
    "            \"Miami–Fort Lauderdale\",\n",
    "            \"Detroit\",\n",
    "            \"Montreal\",\n",
    "            \"Ottawa\",\n",
    "            \"Buffalo\",\n",
    "            \"Washington, D.C.\",\n",
    "            \"Pittsburgh\",\n",
    "            \"Philadelphia\",\n",
    "            \"Columbus\",\n",
    "            \"New York City\",\n",
    "            \"Raleigh\",\n",
    "            \"New York City\",\n",
    "            \"New York City\",\n",
    "            \"Nashville\",\n",
    "            \"Winnipeg\",\n",
    "            \"Minneapolis–Saint Paul\",\n",
    "            \"Denver\",\n",
    "            \"St. Louis\",\n",
    "            \"Dallas–Fort Worth\",\n",
    "            \"Chicago\",\n",
    "            \"Las Vegas\",\n",
    "            \"Los Angeles\",\n",
    "            \"San Francisco Bay Area\",\n",
    "            \"Los Angeles\",\n",
    "            \"Calgary\",\n",
    "            \"Edmonton\",\n",
    "            \"Vancouver\",\n",
    "            \"Phoenix\",\n",
    "        ]\n",
    "    )\n",
    ")\n",
    "\n",
    "nhl_df[\"win loss ratio\"] = nhl_df[\"W\"].astype(\"int\") / (\n",
    "    nhl_df[\"W\"].astype(\"int\") + nhl_df[\"L\"].astype(\"int\")\n",
    ")\n",
    "cities = pd.read_html(\"assets/wikipedia_data.html\")[1]\n",
    "cities = cities.iloc[:-1, [0, 3, 5, 6, 7, 8]]\n",
    "\n",
    "nhl_df = pd.merge(\n",
    "    nhl_df,\n",
    "    cities[[\"Metropolitan area\", \"Population (2016 est.)[8]\"]],\n",
    "    how=\"left\",\n",
    "    left_on=\"metropolitan_area\",\n",
    "    right_on=\"Metropolitan area\",\n",
    ")\n",
    "\n",
    "nhl_df = nhl_df.rename(columns={\"Population (2016 est.)[8]\": \"Population\"})\n",
    "nhl_df_teams = (\n",
    "    nhl_df[[\"metropolitan_area\", \"win loss ratio\"]]\n",
    "    .groupby([\"metropolitan_area\"])\n",
    "    .mean()\n",
    ")\n",
    "metro_areas = pd.merge(\n",
    "    nhl_df_teams,\n",
    "    cities,\n",
    "    how=\"left\",\n",
    "    left_on=\"metropolitan_area\",\n",
    "    right_on=\"Metropolitan area\",\n",
    ").rename(columns={\"Population (2016 est.)[8]\": \"Population\"})\n",
    "\n",
    "\n",
    "def nhl_correlation():\n",
    "\n",
    "    population_by_region = (\n",
    "        metro_areas[\"Population\"].astype(int).to_list()\n",
    "    )  # pass in metropolitan area population from cities\n",
    "    win_loss_by_region = nhl_df_teams[\n",
    "        \"win loss ratio\"\n",
    "    ].to_list()  # pass in win/loss ratio from nhl_df in the same order as cities[\"Metropolitan area\"]\n",
    "\n",
    "    assert len(population_by_region) == len(\n",
    "        win_loss_by_region\n",
    "    ), \"Q1: Your lists must be the same length\"\n",
    "    assert (\n",
    "        len(population_by_region) == 28\n",
    "    ), \"Q1: There should be 28 teams being analysed for NHL\"\n",
    "\n",
    "    return stats.pearsonr(population_by_region, win_loss_by_region)[0]"
   ]
  },
  {
   "cell_type": "code",
   "execution_count": 142,
   "metadata": {
    "deletable": false,
    "editable": false,
    "nbgrader": {
     "cell_type": "code",
     "checksum": "52a581df513c71153e105b93764cda4b",
     "grade": true,
     "grade_id": "cell-ebe0b2dfe1067e63",
     "locked": true,
     "points": 20,
     "schema_version": 3,
     "solution": false
    }
   },
   "outputs": [
    {
     "data": {
      "text/plain": [
       "0.012486162921209902"
      ]
     },
     "execution_count": 142,
     "metadata": {},
     "output_type": "execute_result"
    }
   ],
   "source": [
    "nhl_correlation()"
   ]
  },
  {
   "cell_type": "markdown",
   "metadata": {
    "deletable": false,
    "editable": false,
    "nbgrader": {
     "cell_type": "markdown",
     "checksum": "988912cae4968d81473f46d783e79c16",
     "grade": false,
     "grade_id": "cell-cb964e690298b71d",
     "locked": true,
     "schema_version": 3,
     "solution": false
    }
   },
   "source": [
    "## Question 2\n",
    "For this question, calculate the win/loss ratio's correlation with the population of the city it is in for the **NBA** using **2018** data."
   ]
  },
  {
   "cell_type": "code",
   "execution_count": 175,
   "metadata": {
    "deletable": false,
    "nbgrader": {
     "cell_type": "code",
     "checksum": "9394222aafc8ccab0a228098ba0d6010",
     "grade": false,
     "grade_id": "cell-5a5f21279e3d3572",
     "locked": false,
     "schema_version": 3,
     "solution": true
    }
   },
   "outputs": [],
   "source": [
    "import pandas as pd\n",
    "import numpy as np\n",
    "import scipy.stats as stats\n",
    "import re\n",
    "\n",
    "nba_df = pd.read_csv(\"assets/nba.csv\")\n",
    "nba_df = nba_df[nba_df[\"year\"] == 2018].reset_index(drop=True)\n",
    "nba_df[\"team\"] = nba_df[\"team\"].str.replace(\"\\*?\\s\\(\\d+\\)\", \"\", regex=True)\n",
    "nba_df = nba_df.assign(\n",
    "    metropolitan_area=pd.Series(\n",
    "        [\n",
    "            \"Toronto\",\n",
    "            \"Boston\",\n",
    "            \"Philadelphia\",\n",
    "            \"Cleveland\",\n",
    "            \"Indianapolis\",\n",
    "            \"Miami–Fort Lauderdale\",\n",
    "            \"Milwaukee\",\n",
    "            \"Washington, D.C.\",\n",
    "            \"Detroit\",\n",
    "            \"Charlotte\",\n",
    "            \"New York City\",\n",
    "            \"New York City\",\n",
    "            \"Chicago\",\n",
    "            \"Orlando\",\n",
    "            \"Atlanta\",\n",
    "            \"Houston\",\n",
    "            \"San Francisco Bay Area\",\n",
    "            \"Portland\",\n",
    "            \"Oklahoma City\",\n",
    "            \"Salt Lake City\",\n",
    "            \"New Orleans\",\n",
    "            \"San Antonio\",\n",
    "            \"Minneapolis–Saint Paul\",\n",
    "            \"Denver\",\n",
    "            \"Los Angeles\",\n",
    "            \"Los Angeles\",\n",
    "            \"Sacramento\",\n",
    "            \"Dallas–Fort Worth\",\n",
    "            \"Memphis\",\n",
    "            \"Phoenix\",\n",
    "        ]\n",
    "    )\n",
    ")\n",
    "nba_df[\"win loss ratio\"] = nba_df[\"W\"].astype(\"int\") / (\n",
    "    nba_df[\"W\"].astype(\"int\") + nba_df[\"L\"].astype(\"int\")\n",
    ")\n",
    "cities = pd.read_html(\"assets/wikipedia_data.html\")[1]\n",
    "cities = cities.iloc[:-1, [0, 3, 5, 6, 7, 8]]\n",
    "\n",
    "nba_df = pd.merge(\n",
    "    nba_df,\n",
    "    cities[[\"Metropolitan area\", \"Population (2016 est.)[8]\"]],\n",
    "    how=\"left\",\n",
    "    left_on=\"metropolitan_area\",\n",
    "    right_on=\"Metropolitan area\",\n",
    ")\n",
    "\n",
    "nba_df = nba_df.rename(columns={\"Population (2016 est.)[8]\": \"Population\"})\n",
    "nba_df_teams = (\n",
    "    nba_df[[\"metropolitan_area\", \"win loss ratio\"]]\n",
    "    .groupby([\"metropolitan_area\"])\n",
    "    .mean()\n",
    ")\n",
    "metro_areas = pd.merge(\n",
    "    nba_df_teams,\n",
    "    cities,\n",
    "    how=\"left\",\n",
    "    left_on=\"metropolitan_area\",\n",
    "    right_on=\"Metropolitan area\",\n",
    ").rename(columns={\"Population (2016 est.)[8]\": \"Population\"})\n",
    "\n",
    "\n",
    "def nba_correlation():\n",
    "    population_by_region = (\n",
    "        metro_areas[\"Population\"].astype(int).to_list()\n",
    "    )  # pass in metropolitan area population from cities\n",
    "    win_loss_by_region = nba_df_teams[\n",
    "        \"win loss ratio\"\n",
    "    ].to_list()  # pass in win/loss ratio from nba_df in the same order as cities[\"Metropolitan area\"]\n",
    "\n",
    "    assert len(population_by_region) == len(\n",
    "        win_loss_by_region\n",
    "    ), \"Q2: Your lists must be the same length\"\n",
    "    assert (\n",
    "        len(population_by_region) == 28\n",
    "    ), \"Q2: There should be 28 teams being analysed for NBA\"\n",
    "\n",
    "    return stats.pearsonr(population_by_region, win_loss_by_region)[0]"
   ]
  },
  {
   "cell_type": "code",
   "execution_count": 176,
   "metadata": {
    "deletable": false,
    "editable": false,
    "nbgrader": {
     "cell_type": "code",
     "checksum": "bbdeb8eb22f525a34c10dc8798324e42",
     "grade": true,
     "grade_id": "cell-e573b2b4a282b470",
     "locked": true,
     "points": 20,
     "schema_version": 3,
     "solution": false
    }
   },
   "outputs": [
    {
     "data": {
      "text/plain": [
       "-0.17657160252844617"
      ]
     },
     "execution_count": 176,
     "metadata": {},
     "output_type": "execute_result"
    }
   ],
   "source": [
    "nba_correlation()"
   ]
  },
  {
   "cell_type": "markdown",
   "metadata": {
    "deletable": false,
    "editable": false,
    "nbgrader": {
     "cell_type": "markdown",
     "checksum": "1a1a5809f675ca033086422007cd73bd",
     "grade": false,
     "grade_id": "cell-96e15e4335df78f4",
     "locked": true,
     "schema_version": 3,
     "solution": false
    }
   },
   "source": [
    "## Question 3\n",
    "For this question, calculate the win/loss ratio's correlation with the population of the city it is in for the **MLB** using **2018** data."
   ]
  },
  {
   "cell_type": "code",
   "execution_count": 204,
   "metadata": {
    "deletable": false,
    "nbgrader": {
     "cell_type": "code",
     "checksum": "27e8c0da6c9fa0dffc10488314335b6c",
     "grade": false,
     "grade_id": "cell-33b00fc3f3467b0c",
     "locked": false,
     "schema_version": 3,
     "solution": true
    }
   },
   "outputs": [],
   "source": [
    "import pandas as pd\n",
    "import numpy as np\n",
    "import scipy.stats as stats\n",
    "import re\n",
    "\n",
    "mlb_df = pd.read_csv(\"assets/mlb.csv\")\n",
    "mlb_df = mlb_df[mlb_df[\"year\"] == 2018].reset_index(drop=True)\n",
    "mlb_df = mlb_df.assign(\n",
    "    metropolitan_area=pd.Series(\n",
    "        [\n",
    "            \"Boston\",\n",
    "            \"New York City\",\n",
    "            \"Tampa Bay Area\",\n",
    "            \"Toronto\",\n",
    "            \"Baltimore\",\n",
    "            \"Cleveland\",\n",
    "            \"Minneapolis–Saint Paul\",\n",
    "            \"Detroit\",\n",
    "            \"Chicago\",\n",
    "            \"Kansas City\",\n",
    "            \"Houston\",\n",
    "            \"San Francisco Bay Area\",\n",
    "            \"Seattle\",\n",
    "            \"Los Angeles\",\n",
    "            \"Dallas–Fort Worth\",\n",
    "            \"Atlanta\",\n",
    "            \"Washington, D.C.\",\n",
    "            \"Philadelphia\",\n",
    "            \"New York City\",\n",
    "            \"Miami–Fort Lauderdale\",\n",
    "            \"Milwaukee\",\n",
    "            \"Chicago\",\n",
    "            \"St. Louis\",\n",
    "            \"Pittsburgh\",\n",
    "            \"Cincinnati\",\n",
    "            \"Los Angeles\",\n",
    "            \"Denver\",\n",
    "            \"Phoenix\",\n",
    "            \"San Francisco Bay Area\",\n",
    "            \"San Diego\",\n",
    "        ]\n",
    "    )\n",
    ")\n",
    "mlb_df[\"win loss ratio\"] = mlb_df[\"W\"].astype(\"int\") / (\n",
    "    mlb_df[\"W\"].astype(\"int\") + mlb_df[\"L\"].astype(\"int\")\n",
    ")\n",
    "cities = pd.read_html(\"assets/wikipedia_data.html\")[1]\n",
    "cities = cities.iloc[:-1, [0, 3, 5, 6, 7, 8]]\n",
    "\n",
    "mlb_df = pd.merge(\n",
    "    mlb_df,\n",
    "    cities[[\"Metropolitan area\", \"Population (2016 est.)[8]\"]],\n",
    "    how=\"left\",\n",
    "    left_on=\"metropolitan_area\",\n",
    "    right_on=\"Metropolitan area\",\n",
    ")\n",
    "\n",
    "mlb_df = mlb_df.rename(columns={\"Population (2016 est.)[8]\": \"Population\"})\n",
    "mlb_df_teams = (\n",
    "    mlb_df[[\"metropolitan_area\", \"win loss ratio\"]]\n",
    "    .groupby([\"metropolitan_area\"])\n",
    "    .mean()\n",
    ")\n",
    "metro_areas = pd.merge(\n",
    "    mlb_df_teams,\n",
    "    cities,\n",
    "    how=\"left\",\n",
    "    left_on=\"metropolitan_area\",\n",
    "    right_on=\"Metropolitan area\",\n",
    ").rename(columns={\"Population (2016 est.)[8]\": \"Population\"})\n",
    "\n",
    "\n",
    "def mlb_correlation():\n",
    "    population_by_region = (\n",
    "        metro_areas[\"Population\"].astype(int).to_list()\n",
    "    )  # pass in metropolitan area population from cities\n",
    "    win_loss_by_region = mlb_df_teams[\n",
    "        \"win loss ratio\"\n",
    "    ].to_list()  # pass in win/loss ratio from mlb_df in the same order as cities[\"Metropolitan area\"]\n",
    "\n",
    "    assert len(population_by_region) == len(\n",
    "        win_loss_by_region\n",
    "    ), \"Q3: Your lists must be the same length\"\n",
    "    assert (\n",
    "        len(population_by_region) == 26\n",
    "    ), \"Q3: There should be 26 teams being analysed for MLB\"\n",
    "\n",
    "    return stats.pearsonr(population_by_region, win_loss_by_region)[0]"
   ]
  },
  {
   "cell_type": "code",
   "execution_count": 205,
   "metadata": {
    "deletable": false,
    "editable": false,
    "nbgrader": {
     "cell_type": "code",
     "checksum": "cda33b094ba19ccc37a481e0dd29e0bc",
     "grade": true,
     "grade_id": "cell-764d4476f425c5a2",
     "locked": true,
     "points": 20,
     "schema_version": 3,
     "solution": false
    }
   },
   "outputs": [
    {
     "data": {
      "text/plain": [
       "0.15027698302669307"
      ]
     },
     "execution_count": 205,
     "metadata": {},
     "output_type": "execute_result"
    }
   ],
   "source": [
    "mlb_correlation()"
   ]
  },
  {
   "cell_type": "markdown",
   "metadata": {
    "deletable": false,
    "editable": false,
    "nbgrader": {
     "cell_type": "markdown",
     "checksum": "6977a6da9ed6d8b7a0b7e37bbeda709b",
     "grade": false,
     "grade_id": "cell-793df6c04dfb126e",
     "locked": true,
     "schema_version": 3,
     "solution": false
    }
   },
   "source": [
    "## Question 4\n",
    "For this question, calculate the win/loss ratio's correlation with the population of the city it is in for the **NFL** using **2018** data."
   ]
  },
  {
   "cell_type": "code",
   "execution_count": 236,
   "metadata": {
    "deletable": false,
    "nbgrader": {
     "cell_type": "code",
     "checksum": "c4914ad1e119278ec2bd567c52640b66",
     "grade": false,
     "grade_id": "cell-8ccebc209aeec8d9",
     "locked": false,
     "schema_version": 3,
     "solution": true
    }
   },
   "outputs": [],
   "source": [
    "import pandas as pd\n",
    "import numpy as np\n",
    "import scipy.stats as stats\n",
    "import re\n",
    "\n",
    "nfl_df = pd.read_csv(\"assets/nfl.csv\")\n",
    "\n",
    "nfl_df = nfl_df[\n",
    "    ~((nfl_df[\"team\"].str.contains(\"AFC\")) | (nfl_df[\"team\"].str.contains(\"NFC\")))\n",
    "    & (nfl_df[\"year\"] == 2018)\n",
    "].reset_index(drop=True)\n",
    "nfl_df[\"team\"] = nfl_df[\"team\"].str.replace(\"\\*|\\+\", \"\", regex=True)\n",
    "nfl_df = nfl_df.assign(\n",
    "    metropolitan_area=pd.Series(\n",
    "        [\n",
    "            \"Boston\",\n",
    "            \"Miami–Fort Lauderdale\",\n",
    "            \"Buffalo\",\n",
    "            \"New York City\",\n",
    "            \"Baltimore\",\n",
    "            \"Pittsburgh\",\n",
    "            \"Cleveland\",\n",
    "            \"Cincinnati\",\n",
    "            \"Houston\",\n",
    "            \"Indianapolis\",\n",
    "            \"Nashville\",\n",
    "            \"Jacksonville\",\n",
    "            \"Kansas City\",\n",
    "            \"Los Angeles\",\n",
    "            \"Denver\",\n",
    "            \"San Francisco Bay Area\",\n",
    "            \"Dallas–Fort Worth\",\n",
    "            \"Philadelphia\",\n",
    "            \"Washington, D.C.\",\n",
    "            \"New York City\",\n",
    "            \"Chicago\",\n",
    "            \"Minneapolis–Saint Paul\",\n",
    "            \"Green Bay\",\n",
    "            \"Detroit\",\n",
    "            \"New Orleans\",\n",
    "            \"Charlotte\",\n",
    "            \"Atlanta\",\n",
    "            \"Tampa Bay Area\",\n",
    "            \"Los Angeles\",\n",
    "            \"Seattle\",\n",
    "            \"San Francisco Bay Area\",\n",
    "            \"Phoenix\",\n",
    "        ]\n",
    "    )\n",
    ")\n",
    "nfl_df[\"win loss ratio\"] = nfl_df[\"W\"].astype(\"int\") / (\n",
    "    nfl_df[\"W\"].astype(\"int\") + nfl_df[\"L\"].astype(\"int\")\n",
    ")\n",
    "cities = pd.read_html(\"assets/wikipedia_data.html\")[1]\n",
    "cities = cities.iloc[:-1, [0, 3, 5, 6, 7, 8]]\n",
    "\n",
    "nfl_df = pd.merge(\n",
    "    nfl_df,\n",
    "    cities[[\"Metropolitan area\", \"Population (2016 est.)[8]\"]],\n",
    "    how=\"left\",\n",
    "    left_on=\"metropolitan_area\",\n",
    "    right_on=\"Metropolitan area\",\n",
    ")\n",
    "\n",
    "nfl_df = nfl_df.rename(columns={\"Population (2016 est.)[8]\": \"Population\"})\n",
    "nfl_df_teams = (\n",
    "    nfl_df[[\"metropolitan_area\", \"win loss ratio\"]]\n",
    "    .groupby([\"metropolitan_area\"])\n",
    "    .mean()\n",
    ")\n",
    "metro_areas = pd.merge(\n",
    "    nfl_df_teams,\n",
    "    cities,\n",
    "    how=\"left\",\n",
    "    left_on=\"metropolitan_area\",\n",
    "    right_on=\"Metropolitan area\",\n",
    ").rename(columns={\"Population (2016 est.)[8]\": \"Population\"})\n",
    "\n",
    "\n",
    "def nfl_correlation():\n",
    "    population_by_region = (\n",
    "        metro_areas[\"Population\"].astype(int).to_list()\n",
    "    )  # pass in metropolitan area population from cities\n",
    "    win_loss_by_region = nfl_df_teams[\n",
    "        \"win loss ratio\"\n",
    "    ].to_list()  # pass in win/loss ratio from nfl_df in the same order as cities[\"Metropolitan area\"]\n",
    "\n",
    "    assert len(population_by_region) == len(\n",
    "        win_loss_by_region\n",
    "    ), \"Q4: Your lists must be the same length\"\n",
    "    assert (\n",
    "        len(population_by_region) == 29\n",
    "    ), \"Q4: There should be 29 teams being analysed for NFL\"\n",
    "\n",
    "    return stats.pearsonr(population_by_region, win_loss_by_region)[0]"
   ]
  },
  {
   "cell_type": "code",
   "execution_count": 237,
   "metadata": {
    "deletable": false,
    "editable": false,
    "nbgrader": {
     "cell_type": "code",
     "checksum": "e9415d6399aa49e3a1a60813afdefa3b",
     "grade": true,
     "grade_id": "cell-de7b148b9554dbda",
     "locked": true,
     "points": 20,
     "schema_version": 3,
     "solution": false
    }
   },
   "outputs": [
    {
     "data": {
      "text/plain": [
       "0.004922112149349462"
      ]
     },
     "execution_count": 237,
     "metadata": {},
     "output_type": "execute_result"
    }
   ],
   "source": [
    "nfl_correlation()"
   ]
  },
  {
   "cell_type": "markdown",
   "metadata": {
    "deletable": false,
    "editable": false,
    "nbgrader": {
     "cell_type": "markdown",
     "checksum": "b02d5cd3273f561e4ae939bb2a41740c",
     "grade": false,
     "grade_id": "cell-97b49d8639e908c4",
     "locked": true,
     "schema_version": 3,
     "solution": false
    }
   },
   "source": [
    "## Question 5\n",
    "In this question I would like you to explore the hypothesis that **given that an area has two sports teams in different sports, those teams will perform the same within their respective sports**. How I would like to see this explored is with a series of paired t-tests (so use [`ttest_rel`](https://docs.scipy.org/doc/scipy/reference/generated/scipy.stats.ttest_rel.html)) between all pairs of sports. Are there any sports where we can reject the null hypothesis? Again, average values where a sport has multiple teams in one region. Remember, you will only be including, for each sport, cities which have teams engaged in that sport, drop others as appropriate. This question is worth 20% of the grade for this assignment."
   ]
  },
  {
   "cell_type": "code",
   "execution_count": null,
   "metadata": {
    "deletable": false,
    "nbgrader": {
     "cell_type": "code",
     "checksum": "6d78c961eb66f8d8c81f06d33ae8f393",
     "grade": false,
     "grade_id": "cell-92f25f44b8d1179f",
     "locked": false,
     "schema_version": 3,
     "solution": true
    }
   },
   "outputs": [],
   "source": [
    "import pandas as pd\n",
    "import numpy as np\n",
    "import scipy.stats as stats\n",
    "import re\n",
    "\n",
    "mlb_df=pd.read_csv(\"assets/mlb.csv\")\n",
    "nhl_df=pd.read_csv(\"assets/nhl.csv\")\n",
    "nba_df=pd.read_csv(\"assets/nba.csv\")\n",
    "nfl_df=pd.read_csv(\"assets/nfl.csv\")\n",
    "cities=pd.read_html(\"assets/wikipedia_data.html\")[1]\n",
    "cities=cities.iloc[:-1,[0,3,5,6,7,8]]\n",
    "\n",
    "def sports_team_performance():\n",
    "    # YOUR CODE HERE\n",
    "    raise NotImplementedError()\n",
    "    \n",
    "    # Note: p_values is a full dataframe, so df.loc[\"NFL\",\"NBA\"] should be the same as df.loc[\"NBA\",\"NFL\"] and\n",
    "    # df.loc[\"NFL\",\"NFL\"] should return np.nan\n",
    "    sports = ['NFL', 'NBA', 'NHL', 'MLB']\n",
    "    p_values = pd.DataFrame({k:np.nan for k in sports}, index=sports)\n",
    "    \n",
    "    assert abs(p_values.loc[\"NBA\", \"NHL\"] - 0.02) <= 1e-2, \"The NBA-NHL p-value should be around 0.02\"\n",
    "    assert abs(p_values.loc[\"MLB\", \"NFL\"] - 0.80) <= 1e-2, \"The MLB-NFL p-value should be around 0.80\"\n",
    "    return p_values"
   ]
  },
  {
   "cell_type": "code",
   "execution_count": null,
   "metadata": {
    "deletable": false,
    "editable": false,
    "nbgrader": {
     "cell_type": "code",
     "checksum": "2a596ab421a45cc01168d10e8fbb8f89",
     "grade": true,
     "grade_id": "cell-fb4b9cb5ff4570a6",
     "locked": true,
     "points": 20,
     "schema_version": 3,
     "solution": false
    }
   },
   "outputs": [],
   "source": []
  }
 ],
 "metadata": {
  "kernelspec": {
   "display_name": "Python 3 (ipykernel)",
   "language": "python",
   "name": "python3"
  },
  "language_info": {
   "codemirror_mode": {
    "name": "ipython",
    "version": 3
   },
   "file_extension": ".py",
   "mimetype": "text/x-python",
   "name": "python",
   "nbconvert_exporter": "python",
   "pygments_lexer": "ipython3",
   "version": "3.10.11"
  }
 },
 "nbformat": 4,
 "nbformat_minor": 4
}
